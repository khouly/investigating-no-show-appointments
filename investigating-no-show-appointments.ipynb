{
 "cells": [
  {
   "cell_type": "markdown",
   "metadata": {},
   "source": [
    "# Investigating why do patients miss their scheduled medical appointments\n",
    "\n",
    "## Table of Contents\n",
    "<ul>\n",
    "<li><a href=\"#intro\">Introduction</a></li>\n",
    "<li><a href=\"#wrangling\">Data Wrangling</a></li>\n",
    "<li><a href=\"#eda\">Exploratory Data Analysis</a></li>\n",
    "<li><a href=\"#conclusions\">Conclusions</a></li>\n",
    "</ul>"
   ]
  },
  {
   "cell_type": "markdown",
   "metadata": {},
   "source": [
    "<a id='intro'></a>\n",
    "## Introduction\n",
    "\n",
    "In this project I will be exploring and analyzing a dataset of over 100k medical appointments in Brazil and my aim is to explore the affects of different factors on patients missing their scheduled appointments. For more details you can check the dataset page on Kaggle https://www.kaggle.com/joniarroba/noshowappointments\n",
    "\n",
    "### Data columns:\n",
    "* **PatientId**: The identification of a patient \n",
    "* **AppointmentID**: The identification of each appointment \n",
    "* **Gender**: The gender of the patient Female (F) or Male (M)\n",
    "* **ScheduledDay**: The day someone called or registered the appointment\n",
    "* **AppointmentDay**: The day of the actual appointment\n",
    "* **Age**: The age of the patient\n",
    "* **Neighbourhood**: The Neighbourhood in which the appointment takes place\n",
    "* **Scholarship**: True (1) or False (0) and it indicates whether or not the patient is enrolled in Brasilian welfare program\n",
    "* **Hipertension**: True (1) or False (0) \n",
    "* **Diabetes**: True (1) or False (0) \n",
    "* **Alcoholism**: True (1) or False (0) \n",
    "* **Handcap**: True (1) or False (0) \n",
    "* **SMS_received**: True (1) or False (0)\n",
    "* **No-show**: The status of the appointment, ‘No’ indicates that the patient showed up to their appointment, while ‘Yes’ indicates that they did not show up. \n",
    "\n",
    "This project will focus on the no-show as the dependent variable, I will try to investigate if one of the other variables or a combination of them will help us in predicting if a patient will show up for their scheduled appointment or not?"
   ]
  },
  {
   "cell_type": "code",
   "execution_count": 1,
   "metadata": {},
   "outputs": [],
   "source": [
    "# Project setup and importing the required packages\n",
    "import numpy as np\n",
    "import pandas as pd\n",
    "import matplotlib.pyplot as plt\n",
    "import seaborn as sns\n",
    "sns.set_style('darkgrid')\n",
    "%matplotlib inline"
   ]
  },
  {
   "cell_type": "markdown",
   "metadata": {},
   "source": [
    "<a id='wrangling'></a>\n",
    "## Data Wrangling\n",
    "\n",
    "In this section of the report, I'll load in the data, check for cleanliness, and then trim and clean the dataset for analysis.\n",
    "\n",
    "### General Properties"
   ]
  },
  {
   "cell_type": "code",
   "execution_count": 2,
   "metadata": {},
   "outputs": [
    {
     "data": {
      "text/html": [
       "<div>\n",
       "<style scoped>\n",
       "    .dataframe tbody tr th:only-of-type {\n",
       "        vertical-align: middle;\n",
       "    }\n",
       "\n",
       "    .dataframe tbody tr th {\n",
       "        vertical-align: top;\n",
       "    }\n",
       "\n",
       "    .dataframe thead th {\n",
       "        text-align: right;\n",
       "    }\n",
       "</style>\n",
       "<table border=\"1\" class=\"dataframe\">\n",
       "  <thead>\n",
       "    <tr style=\"text-align: right;\">\n",
       "      <th></th>\n",
       "      <th>PatientId</th>\n",
       "      <th>AppointmentID</th>\n",
       "      <th>Gender</th>\n",
       "      <th>ScheduledDay</th>\n",
       "      <th>AppointmentDay</th>\n",
       "      <th>Age</th>\n",
       "      <th>Neighbourhood</th>\n",
       "      <th>Scholarship</th>\n",
       "      <th>Hipertension</th>\n",
       "      <th>Diabetes</th>\n",
       "      <th>Alcoholism</th>\n",
       "      <th>Handcap</th>\n",
       "      <th>SMS_received</th>\n",
       "      <th>No-show</th>\n",
       "    </tr>\n",
       "  </thead>\n",
       "  <tbody>\n",
       "    <tr>\n",
       "      <th>0</th>\n",
       "      <td>2.987250e+13</td>\n",
       "      <td>5642903</td>\n",
       "      <td>F</td>\n",
       "      <td>2016-04-29T18:38:08Z</td>\n",
       "      <td>2016-04-29T00:00:00Z</td>\n",
       "      <td>62</td>\n",
       "      <td>JARDIM DA PENHA</td>\n",
       "      <td>0</td>\n",
       "      <td>1</td>\n",
       "      <td>0</td>\n",
       "      <td>0</td>\n",
       "      <td>0</td>\n",
       "      <td>0</td>\n",
       "      <td>No</td>\n",
       "    </tr>\n",
       "    <tr>\n",
       "      <th>1</th>\n",
       "      <td>5.589978e+14</td>\n",
       "      <td>5642503</td>\n",
       "      <td>M</td>\n",
       "      <td>2016-04-29T16:08:27Z</td>\n",
       "      <td>2016-04-29T00:00:00Z</td>\n",
       "      <td>56</td>\n",
       "      <td>JARDIM DA PENHA</td>\n",
       "      <td>0</td>\n",
       "      <td>0</td>\n",
       "      <td>0</td>\n",
       "      <td>0</td>\n",
       "      <td>0</td>\n",
       "      <td>0</td>\n",
       "      <td>No</td>\n",
       "    </tr>\n",
       "    <tr>\n",
       "      <th>2</th>\n",
       "      <td>4.262962e+12</td>\n",
       "      <td>5642549</td>\n",
       "      <td>F</td>\n",
       "      <td>2016-04-29T16:19:04Z</td>\n",
       "      <td>2016-04-29T00:00:00Z</td>\n",
       "      <td>62</td>\n",
       "      <td>MATA DA PRAIA</td>\n",
       "      <td>0</td>\n",
       "      <td>0</td>\n",
       "      <td>0</td>\n",
       "      <td>0</td>\n",
       "      <td>0</td>\n",
       "      <td>0</td>\n",
       "      <td>No</td>\n",
       "    </tr>\n",
       "    <tr>\n",
       "      <th>3</th>\n",
       "      <td>8.679512e+11</td>\n",
       "      <td>5642828</td>\n",
       "      <td>F</td>\n",
       "      <td>2016-04-29T17:29:31Z</td>\n",
       "      <td>2016-04-29T00:00:00Z</td>\n",
       "      <td>8</td>\n",
       "      <td>PONTAL DE CAMBURI</td>\n",
       "      <td>0</td>\n",
       "      <td>0</td>\n",
       "      <td>0</td>\n",
       "      <td>0</td>\n",
       "      <td>0</td>\n",
       "      <td>0</td>\n",
       "      <td>No</td>\n",
       "    </tr>\n",
       "    <tr>\n",
       "      <th>4</th>\n",
       "      <td>8.841186e+12</td>\n",
       "      <td>5642494</td>\n",
       "      <td>F</td>\n",
       "      <td>2016-04-29T16:07:23Z</td>\n",
       "      <td>2016-04-29T00:00:00Z</td>\n",
       "      <td>56</td>\n",
       "      <td>JARDIM DA PENHA</td>\n",
       "      <td>0</td>\n",
       "      <td>1</td>\n",
       "      <td>1</td>\n",
       "      <td>0</td>\n",
       "      <td>0</td>\n",
       "      <td>0</td>\n",
       "      <td>No</td>\n",
       "    </tr>\n",
       "  </tbody>\n",
       "</table>\n",
       "</div>"
      ],
      "text/plain": [
       "      PatientId  AppointmentID Gender          ScheduledDay  \\\n",
       "0  2.987250e+13        5642903      F  2016-04-29T18:38:08Z   \n",
       "1  5.589978e+14        5642503      M  2016-04-29T16:08:27Z   \n",
       "2  4.262962e+12        5642549      F  2016-04-29T16:19:04Z   \n",
       "3  8.679512e+11        5642828      F  2016-04-29T17:29:31Z   \n",
       "4  8.841186e+12        5642494      F  2016-04-29T16:07:23Z   \n",
       "\n",
       "         AppointmentDay  Age      Neighbourhood  Scholarship  Hipertension  \\\n",
       "0  2016-04-29T00:00:00Z   62    JARDIM DA PENHA            0             1   \n",
       "1  2016-04-29T00:00:00Z   56    JARDIM DA PENHA            0             0   \n",
       "2  2016-04-29T00:00:00Z   62      MATA DA PRAIA            0             0   \n",
       "3  2016-04-29T00:00:00Z    8  PONTAL DE CAMBURI            0             0   \n",
       "4  2016-04-29T00:00:00Z   56    JARDIM DA PENHA            0             1   \n",
       "\n",
       "   Diabetes  Alcoholism  Handcap  SMS_received No-show  \n",
       "0         0           0        0             0      No  \n",
       "1         0           0        0             0      No  \n",
       "2         0           0        0             0      No  \n",
       "3         0           0        0             0      No  \n",
       "4         1           0        0             0      No  "
      ]
     },
     "execution_count": 2,
     "metadata": {},
     "output_type": "execute_result"
    }
   ],
   "source": [
    "# Loading the data in to a DataFrame from the CSV file and exploring the first few lines\n",
    "appointments = pd.read_csv('noshowappointments-kagglev2-may-2016.csv')\n",
    "appointments.head()"
   ]
  },
  {
   "cell_type": "code",
   "execution_count": 3,
   "metadata": {},
   "outputs": [
    {
     "name": "stdout",
     "output_type": "stream",
     "text": [
      "<class 'pandas.core.frame.DataFrame'>\n",
      "RangeIndex: 110527 entries, 0 to 110526\n",
      "Data columns (total 14 columns):\n",
      "PatientId         110527 non-null float64\n",
      "AppointmentID     110527 non-null int64\n",
      "Gender            110527 non-null object\n",
      "ScheduledDay      110527 non-null object\n",
      "AppointmentDay    110527 non-null object\n",
      "Age               110527 non-null int64\n",
      "Neighbourhood     110527 non-null object\n",
      "Scholarship       110527 non-null int64\n",
      "Hipertension      110527 non-null int64\n",
      "Diabetes          110527 non-null int64\n",
      "Alcoholism        110527 non-null int64\n",
      "Handcap           110527 non-null int64\n",
      "SMS_received      110527 non-null int64\n",
      "No-show           110527 non-null object\n",
      "dtypes: float64(1), int64(8), object(5)\n",
      "memory usage: 11.8+ MB\n"
     ]
    }
   ],
   "source": [
    "# Check column types and number of entries\n",
    "appointments.info()"
   ]
  },
  {
   "cell_type": "code",
   "execution_count": 4,
   "metadata": {},
   "outputs": [
    {
     "data": {
      "text/html": [
       "<div>\n",
       "<style scoped>\n",
       "    .dataframe tbody tr th:only-of-type {\n",
       "        vertical-align: middle;\n",
       "    }\n",
       "\n",
       "    .dataframe tbody tr th {\n",
       "        vertical-align: top;\n",
       "    }\n",
       "\n",
       "    .dataframe thead th {\n",
       "        text-align: right;\n",
       "    }\n",
       "</style>\n",
       "<table border=\"1\" class=\"dataframe\">\n",
       "  <thead>\n",
       "    <tr style=\"text-align: right;\">\n",
       "      <th></th>\n",
       "      <th>PatientId</th>\n",
       "      <th>AppointmentID</th>\n",
       "      <th>Age</th>\n",
       "      <th>Scholarship</th>\n",
       "      <th>Hipertension</th>\n",
       "      <th>Diabetes</th>\n",
       "      <th>Alcoholism</th>\n",
       "      <th>Handcap</th>\n",
       "      <th>SMS_received</th>\n",
       "    </tr>\n",
       "  </thead>\n",
       "  <tbody>\n",
       "    <tr>\n",
       "      <th>count</th>\n",
       "      <td>1.105270e+05</td>\n",
       "      <td>1.105270e+05</td>\n",
       "      <td>110527.000000</td>\n",
       "      <td>110527.000000</td>\n",
       "      <td>110527.000000</td>\n",
       "      <td>110527.000000</td>\n",
       "      <td>110527.000000</td>\n",
       "      <td>110527.000000</td>\n",
       "      <td>110527.000000</td>\n",
       "    </tr>\n",
       "    <tr>\n",
       "      <th>mean</th>\n",
       "      <td>1.474963e+14</td>\n",
       "      <td>5.675305e+06</td>\n",
       "      <td>37.088874</td>\n",
       "      <td>0.098266</td>\n",
       "      <td>0.197246</td>\n",
       "      <td>0.071865</td>\n",
       "      <td>0.030400</td>\n",
       "      <td>0.022248</td>\n",
       "      <td>0.321026</td>\n",
       "    </tr>\n",
       "    <tr>\n",
       "      <th>std</th>\n",
       "      <td>2.560949e+14</td>\n",
       "      <td>7.129575e+04</td>\n",
       "      <td>23.110205</td>\n",
       "      <td>0.297675</td>\n",
       "      <td>0.397921</td>\n",
       "      <td>0.258265</td>\n",
       "      <td>0.171686</td>\n",
       "      <td>0.161543</td>\n",
       "      <td>0.466873</td>\n",
       "    </tr>\n",
       "    <tr>\n",
       "      <th>min</th>\n",
       "      <td>3.921784e+04</td>\n",
       "      <td>5.030230e+06</td>\n",
       "      <td>-1.000000</td>\n",
       "      <td>0.000000</td>\n",
       "      <td>0.000000</td>\n",
       "      <td>0.000000</td>\n",
       "      <td>0.000000</td>\n",
       "      <td>0.000000</td>\n",
       "      <td>0.000000</td>\n",
       "    </tr>\n",
       "    <tr>\n",
       "      <th>25%</th>\n",
       "      <td>4.172614e+12</td>\n",
       "      <td>5.640286e+06</td>\n",
       "      <td>18.000000</td>\n",
       "      <td>0.000000</td>\n",
       "      <td>0.000000</td>\n",
       "      <td>0.000000</td>\n",
       "      <td>0.000000</td>\n",
       "      <td>0.000000</td>\n",
       "      <td>0.000000</td>\n",
       "    </tr>\n",
       "    <tr>\n",
       "      <th>50%</th>\n",
       "      <td>3.173184e+13</td>\n",
       "      <td>5.680573e+06</td>\n",
       "      <td>37.000000</td>\n",
       "      <td>0.000000</td>\n",
       "      <td>0.000000</td>\n",
       "      <td>0.000000</td>\n",
       "      <td>0.000000</td>\n",
       "      <td>0.000000</td>\n",
       "      <td>0.000000</td>\n",
       "    </tr>\n",
       "    <tr>\n",
       "      <th>75%</th>\n",
       "      <td>9.439172e+13</td>\n",
       "      <td>5.725524e+06</td>\n",
       "      <td>55.000000</td>\n",
       "      <td>0.000000</td>\n",
       "      <td>0.000000</td>\n",
       "      <td>0.000000</td>\n",
       "      <td>0.000000</td>\n",
       "      <td>0.000000</td>\n",
       "      <td>1.000000</td>\n",
       "    </tr>\n",
       "    <tr>\n",
       "      <th>max</th>\n",
       "      <td>9.999816e+14</td>\n",
       "      <td>5.790484e+06</td>\n",
       "      <td>115.000000</td>\n",
       "      <td>1.000000</td>\n",
       "      <td>1.000000</td>\n",
       "      <td>1.000000</td>\n",
       "      <td>1.000000</td>\n",
       "      <td>4.000000</td>\n",
       "      <td>1.000000</td>\n",
       "    </tr>\n",
       "  </tbody>\n",
       "</table>\n",
       "</div>"
      ],
      "text/plain": [
       "          PatientId  AppointmentID            Age    Scholarship  \\\n",
       "count  1.105270e+05   1.105270e+05  110527.000000  110527.000000   \n",
       "mean   1.474963e+14   5.675305e+06      37.088874       0.098266   \n",
       "std    2.560949e+14   7.129575e+04      23.110205       0.297675   \n",
       "min    3.921784e+04   5.030230e+06      -1.000000       0.000000   \n",
       "25%    4.172614e+12   5.640286e+06      18.000000       0.000000   \n",
       "50%    3.173184e+13   5.680573e+06      37.000000       0.000000   \n",
       "75%    9.439172e+13   5.725524e+06      55.000000       0.000000   \n",
       "max    9.999816e+14   5.790484e+06     115.000000       1.000000   \n",
       "\n",
       "        Hipertension       Diabetes     Alcoholism        Handcap  \\\n",
       "count  110527.000000  110527.000000  110527.000000  110527.000000   \n",
       "mean        0.197246       0.071865       0.030400       0.022248   \n",
       "std         0.397921       0.258265       0.171686       0.161543   \n",
       "min         0.000000       0.000000       0.000000       0.000000   \n",
       "25%         0.000000       0.000000       0.000000       0.000000   \n",
       "50%         0.000000       0.000000       0.000000       0.000000   \n",
       "75%         0.000000       0.000000       0.000000       0.000000   \n",
       "max         1.000000       1.000000       1.000000       4.000000   \n",
       "\n",
       "        SMS_received  \n",
       "count  110527.000000  \n",
       "mean        0.321026  \n",
       "std         0.466873  \n",
       "min         0.000000  \n",
       "25%         0.000000  \n",
       "50%         0.000000  \n",
       "75%         1.000000  \n",
       "max         1.000000  "
      ]
     },
     "execution_count": 4,
     "metadata": {},
     "output_type": "execute_result"
    }
   ],
   "source": [
    "# Check the summary statistics for the DataFrame\n",
    "appointments.describe()"
   ]
  },
  {
   "cell_type": "code",
   "execution_count": 5,
   "metadata": {},
   "outputs": [
    {
     "data": {
      "text/plain": [
       "PatientId          62299\n",
       "AppointmentID     110527\n",
       "Gender                 2\n",
       "ScheduledDay      103549\n",
       "AppointmentDay        27\n",
       "Age                  104\n",
       "Neighbourhood         81\n",
       "Scholarship            2\n",
       "Hipertension           2\n",
       "Diabetes               2\n",
       "Alcoholism             2\n",
       "Handcap                5\n",
       "SMS_received           2\n",
       "No-show                2\n",
       "dtype: int64"
      ]
     },
     "execution_count": 5,
     "metadata": {},
     "output_type": "execute_result"
    }
   ],
   "source": [
    "# Check the number of unique entries for each column\n",
    "appointments.nunique()"
   ]
  },
  {
   "cell_type": "markdown",
   "metadata": {},
   "source": [
    "From the above 4 cells it seems it we can infer the following:\n",
    "* There are 110527 records with no duplicates\n",
    "* The data doesn't have missing fileds in any of the columns\n",
    "* The min of the Age column is -1 which is not a valid age, so this will need further investigation. Also 115 seems to be pretty high but it is still possible, a quick google search shows that there are a few verified people of that age\n",
    "* The max of the Handcap column is 4 which is not a aligned with the true and false options stated in the documentation of the data, it also has 5 different unique values, so this will need further investigation\n",
    "* The data type for the ScheduledDay and AppointmentDay columns need to be changed to Date/Time data type\n",
    "* The data types for the rest of the columns are fine\n",
    "* The AppointmentID column can be dropped as they don't provide any added benefit to the analysis\n",
    "* The PatientId column will be kept as it is clear from number of unique entries that some patients had more than 1 appointment\n",
    "* The No-show column will be easier to handle if it is 0 or 1 instead of Yes and No"
   ]
  },
  {
   "cell_type": "markdown",
   "metadata": {},
   "source": [
    "### Data Cleaning\n",
    "\n",
    "I'll start by further investigating and cleaning the data to fix the below issues that I identified in the previous section:\n",
    "1. The AppointmentID column can be dropped as they don't provide any added benefit to the analysis\n",
    "2. The data type for the ScheduledDay and AppointmentDay columns need to be changed to Date/Time data type\n",
    "3. The max of the Handcap column is 4 which is not a aligned with the true and false options stated in the documentation of the data, it also has 5 different unique values\n",
    "4. The min of the Age column is -1 which is not a valid age\n",
    "5. The No-show column will be easier to handle if it is 0 or 1 instead of Yes and No"
   ]
  },
  {
   "cell_type": "code",
   "execution_count": 6,
   "metadata": {},
   "outputs": [],
   "source": [
    "# Drop the AppointmentID column\n",
    "appointments.drop(['AppointmentID'], axis=1, inplace=True)"
   ]
  },
  {
   "cell_type": "code",
   "execution_count": 7,
   "metadata": {},
   "outputs": [
    {
     "name": "stdout",
     "output_type": "stream",
     "text": [
      "<class 'pandas.core.frame.DataFrame'>\n",
      "RangeIndex: 110527 entries, 0 to 110526\n",
      "Data columns (total 13 columns):\n",
      "PatientId         110527 non-null float64\n",
      "Gender            110527 non-null object\n",
      "ScheduledDay      110527 non-null datetime64[ns]\n",
      "AppointmentDay    110527 non-null datetime64[ns]\n",
      "Age               110527 non-null int64\n",
      "Neighbourhood     110527 non-null object\n",
      "Scholarship       110527 non-null int64\n",
      "Hipertension      110527 non-null int64\n",
      "Diabetes          110527 non-null int64\n",
      "Alcoholism        110527 non-null int64\n",
      "Handcap           110527 non-null int64\n",
      "SMS_received      110527 non-null int64\n",
      "No-show           110527 non-null object\n",
      "dtypes: datetime64[ns](2), float64(1), int64(7), object(3)\n",
      "memory usage: 11.0+ MB\n"
     ]
    }
   ],
   "source": [
    "# Changing the data type for the ScheduledDay and AppointmentDay columns to datetime\n",
    "# This can also be done while importing with the read_csv function\n",
    "appointments['ScheduledDay'] = pd.to_datetime(appointments['ScheduledDay'])\n",
    "appointments['AppointmentDay'] = pd.to_datetime(appointments['AppointmentDay'])\n",
    "appointments.info()"
   ]
  },
  {
   "cell_type": "code",
   "execution_count": 8,
   "metadata": {},
   "outputs": [
    {
     "data": {
      "text/plain": [
       "array([0, 1, 2, 3, 4])"
      ]
     },
     "execution_count": 8,
     "metadata": {},
     "output_type": "execute_result"
    }
   ],
   "source": [
    "# Checking the Handcap column\n",
    "appointments['Handcap'].unique()"
   ]
  },
  {
   "cell_type": "code",
   "execution_count": 9,
   "metadata": {},
   "outputs": [
    {
     "data": {
      "image/png": "[encoded data removed]",
      "text/plain": [
       "<Figure size 432x288 with 1 Axes>"
      ]
     },
     "metadata": {
      "needs_background": "light"
     },
     "output_type": "display_data"
    }
   ],
   "source": [
    "appointments[appointments['Handcap']>1]['Handcap'].plot(kind='hist', bins=[2,3,4,5], color='#2196F3', alpha=.6)\n",
    "plt.title('Distribution of patients by the number of handicaps', fontsize=14)\n",
    "plt.xlabel('Number of handicaps', fontsize=12)\n",
    "plt.ylabel('Number of patients', fontsize=12)\n",
    "plt.show()"
   ]
  },
  {
   "cell_type": "markdown",
   "metadata": {},
   "source": [
    "From the above 2 cells it seems that it is not an error or a typo in the data based on the number of records above one and the variation in the values. So I'll assume that this column corresponds to the number of handicaps, not just the presence or absence of it. So no changes will be made to this column."
   ]
  },
  {
   "cell_type": "code",
   "execution_count": 10,
   "metadata": {},
   "outputs": [
    {
     "data": {
      "image/png": "[encoded data removed]",
      "text/plain": [
       "<Figure size 432x288 with 1 Axes>"
      ]
     },
     "metadata": {
      "needs_background": "light"
     },
     "output_type": "display_data"
    }
   ],
   "source": [
    "# Investigating the Age column\n",
    "appointments['Age'].plot(kind='hist', color='#2196F3', alpha=.6)\n",
    "plt.title('Distribution of patients by age', fontsize=14)\n",
    "plt.xlabel('Age in years', fontsize=12)\n",
    "plt.ylabel('Number of patients', fontsize=12)\n",
    "plt.show()"
   ]
  },
  {
   "cell_type": "code",
   "execution_count": 11,
   "metadata": {},
   "outputs": [
    {
     "data": {
      "text/html": [
       "<div>\n",
       "<style scoped>\n",
       "    .dataframe tbody tr th:only-of-type {\n",
       "        vertical-align: middle;\n",
       "    }\n",
       "\n",
       "    .dataframe tbody tr th {\n",
       "        vertical-align: top;\n",
       "    }\n",
       "\n",
       "    .dataframe thead th {\n",
       "        text-align: right;\n",
       "    }\n",
       "</style>\n",
       "<table border=\"1\" class=\"dataframe\">\n",
       "  <thead>\n",
       "    <tr style=\"text-align: right;\">\n",
       "      <th></th>\n",
       "      <th>PatientId</th>\n",
       "      <th>Gender</th>\n",
       "      <th>ScheduledDay</th>\n",
       "      <th>AppointmentDay</th>\n",
       "      <th>Age</th>\n",
       "      <th>Neighbourhood</th>\n",
       "      <th>Scholarship</th>\n",
       "      <th>Hipertension</th>\n",
       "      <th>Diabetes</th>\n",
       "      <th>Alcoholism</th>\n",
       "      <th>Handcap</th>\n",
       "      <th>SMS_received</th>\n",
       "      <th>No-show</th>\n",
       "    </tr>\n",
       "  </thead>\n",
       "  <tbody>\n",
       "    <tr>\n",
       "      <th>99832</th>\n",
       "      <td>4.659432e+14</td>\n",
       "      <td>F</td>\n",
       "      <td>2016-06-06 08:58:13</td>\n",
       "      <td>2016-06-06</td>\n",
       "      <td>-1</td>\n",
       "      <td>ROMÃO</td>\n",
       "      <td>0</td>\n",
       "      <td>0</td>\n",
       "      <td>0</td>\n",
       "      <td>0</td>\n",
       "      <td>0</td>\n",
       "      <td>0</td>\n",
       "      <td>No</td>\n",
       "    </tr>\n",
       "  </tbody>\n",
       "</table>\n",
       "</div>"
      ],
      "text/plain": [
       "          PatientId Gender        ScheduledDay AppointmentDay  Age  \\\n",
       "99832  4.659432e+14      F 2016-06-06 08:58:13     2016-06-06   -1   \n",
       "\n",
       "      Neighbourhood  Scholarship  Hipertension  Diabetes  Alcoholism  Handcap  \\\n",
       "99832         ROMÃO            0             0         0           0        0   \n",
       "\n",
       "       SMS_received No-show  \n",
       "99832             0      No  "
      ]
     },
     "execution_count": 11,
     "metadata": {},
     "output_type": "execute_result"
    }
   ],
   "source": [
    "appointments[appointments['Age']==-1]"
   ]
  },
  {
   "cell_type": "code",
   "execution_count": 12,
   "metadata": {},
   "outputs": [],
   "source": [
    "# Removing the faulty row\n",
    "appointments = appointments[appointments['Age']!=-1]"
   ]
  },
  {
   "cell_type": "markdown",
   "metadata": {
    "collapsed": true
   },
   "source": [
    "The age seems to be distributed normally, and since it is only one row with the age of -1 I dropped it."
   ]
  },
  {
   "cell_type": "code",
   "execution_count": 13,
   "metadata": {},
   "outputs": [],
   "source": [
    "# Changing the No-show column values to 0s and 1s\n",
    "appointments['No-show'] = appointments['No-show'].apply(lambda x: 0 if x == 'No' else 1)"
   ]
  },
  {
   "cell_type": "markdown",
   "metadata": {},
   "source": [
    "So now for the No-show column the 0 stands for showing up and the 1 stands for a no-show. And now the data is ready to be exlopred for analysis."
   ]
  },
  {
   "cell_type": "markdown",
   "metadata": {},
   "source": [
    "<a id='eda'></a>\n",
    "## Exploratory Data Analysis\n",
    "\n",
    "Now after cleaning the data, in this section I'll start the exploration process. I'll be looking at the different variables and comparing how they affect the no-show (dependent variable). This will be done by computing different statistics and visualizations.\n",
    "\n",
    "### General correlation between the variables"
   ]
  },
  {
   "cell_type": "code",
   "execution_count": 14,
   "metadata": {},
   "outputs": [
    {
     "data": {
      "text/html": [
       "<div>\n",
       "<style scoped>\n",
       "    .dataframe tbody tr th:only-of-type {\n",
       "        vertical-align: middle;\n",
       "    }\n",
       "\n",
       "    .dataframe tbody tr th {\n",
       "        vertical-align: top;\n",
       "    }\n",
       "\n",
       "    .dataframe thead th {\n",
       "        text-align: right;\n",
       "    }\n",
       "</style>\n",
       "<table border=\"1\" class=\"dataframe\">\n",
       "  <thead>\n",
       "    <tr style=\"text-align: right;\">\n",
       "      <th></th>\n",
       "      <th>PatientId</th>\n",
       "      <th>Age</th>\n",
       "      <th>Scholarship</th>\n",
       "      <th>Hipertension</th>\n",
       "      <th>Diabetes</th>\n",
       "      <th>Alcoholism</th>\n",
       "      <th>Handcap</th>\n",
       "      <th>SMS_received</th>\n",
       "      <th>No-show</th>\n",
       "    </tr>\n",
       "  </thead>\n",
       "  <tbody>\n",
       "    <tr>\n",
       "      <th>PatientId</th>\n",
       "      <td>1.000000</td>\n",
       "      <td>-0.004121</td>\n",
       "      <td>-0.002877</td>\n",
       "      <td>-0.006436</td>\n",
       "      <td>0.001608</td>\n",
       "      <td>0.011014</td>\n",
       "      <td>-0.007915</td>\n",
       "      <td>-0.009742</td>\n",
       "      <td>-0.001456</td>\n",
       "    </tr>\n",
       "    <tr>\n",
       "      <th>Age</th>\n",
       "      <td>-0.004121</td>\n",
       "      <td>1.000000</td>\n",
       "      <td>-0.092463</td>\n",
       "      <td>0.504586</td>\n",
       "      <td>0.292391</td>\n",
       "      <td>0.095810</td>\n",
       "      <td>0.078032</td>\n",
       "      <td>0.012633</td>\n",
       "      <td>-0.060327</td>\n",
       "    </tr>\n",
       "    <tr>\n",
       "      <th>Scholarship</th>\n",
       "      <td>-0.002877</td>\n",
       "      <td>-0.092463</td>\n",
       "      <td>1.000000</td>\n",
       "      <td>-0.019730</td>\n",
       "      <td>-0.024894</td>\n",
       "      <td>0.035022</td>\n",
       "      <td>-0.008587</td>\n",
       "      <td>0.001192</td>\n",
       "      <td>0.029134</td>\n",
       "    </tr>\n",
       "    <tr>\n",
       "      <th>Hipertension</th>\n",
       "      <td>-0.006436</td>\n",
       "      <td>0.504586</td>\n",
       "      <td>-0.019730</td>\n",
       "      <td>1.000000</td>\n",
       "      <td>0.433085</td>\n",
       "      <td>0.087970</td>\n",
       "      <td>0.080083</td>\n",
       "      <td>-0.006270</td>\n",
       "      <td>-0.035704</td>\n",
       "    </tr>\n",
       "    <tr>\n",
       "      <th>Diabetes</th>\n",
       "      <td>0.001608</td>\n",
       "      <td>0.292391</td>\n",
       "      <td>-0.024894</td>\n",
       "      <td>0.433085</td>\n",
       "      <td>1.000000</td>\n",
       "      <td>0.018473</td>\n",
       "      <td>0.057530</td>\n",
       "      <td>-0.014552</td>\n",
       "      <td>-0.015181</td>\n",
       "    </tr>\n",
       "    <tr>\n",
       "      <th>Alcoholism</th>\n",
       "      <td>0.011014</td>\n",
       "      <td>0.095810</td>\n",
       "      <td>0.035022</td>\n",
       "      <td>0.087970</td>\n",
       "      <td>0.018473</td>\n",
       "      <td>1.000000</td>\n",
       "      <td>0.004647</td>\n",
       "      <td>-0.026149</td>\n",
       "      <td>-0.000197</td>\n",
       "    </tr>\n",
       "    <tr>\n",
       "      <th>Handcap</th>\n",
       "      <td>-0.007915</td>\n",
       "      <td>0.078032</td>\n",
       "      <td>-0.008587</td>\n",
       "      <td>0.080083</td>\n",
       "      <td>0.057530</td>\n",
       "      <td>0.004647</td>\n",
       "      <td>1.000000</td>\n",
       "      <td>-0.024162</td>\n",
       "      <td>-0.006077</td>\n",
       "    </tr>\n",
       "    <tr>\n",
       "      <th>SMS_received</th>\n",
       "      <td>-0.009742</td>\n",
       "      <td>0.012633</td>\n",
       "      <td>0.001192</td>\n",
       "      <td>-0.006270</td>\n",
       "      <td>-0.014552</td>\n",
       "      <td>-0.026149</td>\n",
       "      <td>-0.024162</td>\n",
       "      <td>1.000000</td>\n",
       "      <td>0.126428</td>\n",
       "    </tr>\n",
       "    <tr>\n",
       "      <th>No-show</th>\n",
       "      <td>-0.001456</td>\n",
       "      <td>-0.060327</td>\n",
       "      <td>0.029134</td>\n",
       "      <td>-0.035704</td>\n",
       "      <td>-0.015181</td>\n",
       "      <td>-0.000197</td>\n",
       "      <td>-0.006077</td>\n",
       "      <td>0.126428</td>\n",
       "      <td>1.000000</td>\n",
       "    </tr>\n",
       "  </tbody>\n",
       "</table>\n",
       "</div>"
      ],
      "text/plain": [
       "              PatientId       Age  Scholarship  Hipertension  Diabetes  \\\n",
       "PatientId      1.000000 -0.004121    -0.002877     -0.006436  0.001608   \n",
       "Age           -0.004121  1.000000    -0.092463      0.504586  0.292391   \n",
       "Scholarship   -0.002877 -0.092463     1.000000     -0.019730 -0.024894   \n",
       "Hipertension  -0.006436  0.504586    -0.019730      1.000000  0.433085   \n",
       "Diabetes       0.001608  0.292391    -0.024894      0.433085  1.000000   \n",
       "Alcoholism     0.011014  0.095810     0.035022      0.087970  0.018473   \n",
       "Handcap       -0.007915  0.078032    -0.008587      0.080083  0.057530   \n",
       "SMS_received  -0.009742  0.012633     0.001192     -0.006270 -0.014552   \n",
       "No-show       -0.001456 -0.060327     0.029134     -0.035704 -0.015181   \n",
       "\n",
       "              Alcoholism   Handcap  SMS_received   No-show  \n",
       "PatientId       0.011014 -0.007915     -0.009742 -0.001456  \n",
       "Age             0.095810  0.078032      0.012633 -0.060327  \n",
       "Scholarship     0.035022 -0.008587      0.001192  0.029134  \n",
       "Hipertension    0.087970  0.080083     -0.006270 -0.035704  \n",
       "Diabetes        0.018473  0.057530     -0.014552 -0.015181  \n",
       "Alcoholism      1.000000  0.004647     -0.026149 -0.000197  \n",
       "Handcap         0.004647  1.000000     -0.024162 -0.006077  \n",
       "SMS_received   -0.026149 -0.024162      1.000000  0.126428  \n",
       "No-show        -0.000197 -0.006077      0.126428  1.000000  "
      ]
     },
     "execution_count": 14,
     "metadata": {},
     "output_type": "execute_result"
    }
   ],
   "source": [
    "# Compute pairwise correlation of columns\n",
    "appointments.corr()"
   ]
  },
  {
   "cell_type": "markdown",
   "metadata": {},
   "source": [
    "From the above table it is clear that most of the variables don't have effects on the No-show as their is nearly no correlation between any of them. The highest correlation is with the SMS_received which we will explore below."
   ]
  },
  {
   "cell_type": "code",
   "execution_count": 15,
   "metadata": {},
   "outputs": [],
   "source": [
    "def get_proportions(df, indpendent_var, dependent_var, ivy, ivn, dvy, dvn):\n",
    "    \"\"\" This function takes a DataFrame and 2 binomial variables and returns the proportions of all possibilities.\n",
    "    This can be used to check the effects of the independent variables on the dependent variable\"\"\"\n",
    "    yes = df[df[indpendent_var]>=ivy]\n",
    "    no = df[df[indpendent_var]==ivn]\n",
    "    prop_yes_yes = len(yes[yes[dependent_var]==dvy])/len(yes)\n",
    "    prop_yes_no = len(yes[yes[dependent_var]==dvn])/len(yes)\n",
    "    prop_no_yes = len(no[no[dependent_var]==dvy])/len(no)\n",
    "    prop_no_no = len(no[no[dependent_var]==dvn])/len(no)\n",
    "    \n",
    "    return [prop_yes_yes, prop_yes_no, prop_no_yes, prop_no_no]\n",
    "\n",
    "def bar_chart_proportions(df, indpendent_var, dependent_var, ivy=1, ivn=0, dvy=1, dvn=0):\n",
    "    \"\"\"Plot a bar chart showing the proportions by the independent variable on the dependent variable.\"\"\"\n",
    "    proportions = get_proportions(df, indpendent_var, dependent_var, ivy, ivn, dvy, dvn)\n",
    "    ind = np.arange(int(len(proportions)/2))\n",
    "    width = 0.45\n",
    "    size = 12\n",
    "    plt.figure(figsize=(size*0.75,size/2))\n",
    "    plt.bar(ind, [proportions[0],proportions[2]], width, color='#673AB7', alpha=.6, label=dependent_var)\n",
    "    plt.bar(ind + width, [proportions[1],proportions[3]], width, color='#2196F3', alpha=.6, label=\"Not \"+dependent_var)\n",
    "    plt.ylabel('Proportion', fontsize=size)\n",
    "    plt.xlabel(indpendent_var, fontsize=size)\n",
    "    plt.title('Proportion by {0} for {1}'.format(indpendent_var, dependent_var), fontsize=size*1.25)\n",
    "    locations = ind + (width / 2)\n",
    "    if ivy == 1 and ivn == 0:\n",
    "        labels = ['Yes', 'No']\n",
    "    else:\n",
    "        labels = [ivy, ivn]\n",
    "    plt.xticks(locations, labels, fontsize=size*0.9)\n",
    "    plt.yticks(fontsize=size*0.9)\n",
    "    plt.legend(fontsize=size)\n",
    "    plt.show()\n"
   ]
  },
  {
   "cell_type": "code",
   "execution_count": 16,
   "metadata": {},
   "outputs": [
    {
     "data": {
      "image/png": "[encoded data removed]",
      "text/plain": [
       "<Figure size 648x432 with 1 Axes>"
      ]
     },
     "metadata": {
      "needs_background": "light"
     },
     "output_type": "display_data"
    }
   ],
   "source": [
    "# Exploring the SMS_received affects on the No-show\n",
    "bar_chart_proportions(appointments, 'SMS_received', 'No-show')"
   ]
  },
  {
   "cell_type": "markdown",
   "metadata": {},
   "source": [
    "It is the opposite of what you would expect, the patients who received an SMS had a higher chance of not showing up. This might be due to chance, but it would be good to further explore this. To do that it will require further data on the timing of the SMS and also exploring the type of users that are sent an SMS."
   ]
  },
  {
   "cell_type": "code",
   "execution_count": 17,
   "metadata": {},
   "outputs": [
    {
     "data": {
      "image/png": "[encoded data removed]",
      "text/plain": [
       "<Figure size 648x432 with 1 Axes>"
      ]
     },
     "metadata": {
      "needs_background": "light"
     },
     "output_type": "display_data"
    }
   ],
   "source": [
    "# Exploring the Alcoholism affects on the No-show\n",
    "bar_chart_proportions(appointments, 'Alcoholism', 'No-show')"
   ]
  },
  {
   "cell_type": "markdown",
   "metadata": {},
   "source": [
    "As you can see from the above bar chart there is nearly no difference between Alcoholism or not on the no show, the results will be similar for the rest of the variables in the table above with minor differences.\n",
    "\n",
    "So to move forward I'll explore the following variables on the no-show rate:\n",
    "1. Genders\n",
    "2. Neighbourhoods\n",
    "3. Number of visits\n",
    "4. Difference between scheduled and appointment dates\n",
    "\n",
    "### 1. Genders"
   ]
  },
  {
   "cell_type": "code",
   "execution_count": 18,
   "metadata": {},
   "outputs": [
    {
     "data": {
      "image/png": "[encoded data removed]",
      "text/plain": [
       "<Figure size 648x432 with 1 Axes>"
      ]
     },
     "metadata": {
      "needs_background": "light"
     },
     "output_type": "display_data"
    }
   ],
   "source": [
    "# Exploring the effects of Gender on the no-show\n",
    "bar_chart_proportions(appointments, 'Gender', 'No-show', 'F', 'M')"
   ]
  },
  {
   "cell_type": "markdown",
   "metadata": {},
   "source": [
    "It seems that there is also no relation between the gender and the no-show rate.\n",
    "\n",
    "### 2. Neighbourhoods"
   ]
  },
  {
   "cell_type": "code",
   "execution_count": 19,
   "metadata": {},
   "outputs": [
    {
     "data": {
      "text/plain": [
       "count      81.000000\n",
       "mean      275.543210\n",
       "std       277.991504\n",
       "min         0.000000\n",
       "25%        69.000000\n",
       "50%       179.000000\n",
       "75%       428.000000\n",
       "max      1465.000000\n",
       "Name: No-show, dtype: float64"
      ]
     },
     "execution_count": 19,
     "metadata": {},
     "output_type": "execute_result"
    }
   ],
   "source": [
    "# Grouping the data by neighbourhood\n",
    "neighbourhoods = appointments.groupby('Neighbourhood')\n",
    "# Counting the number of appointments for each neighbourhood\n",
    "neighbourhoods_num_app = appointments.groupby('Neighbourhood')['No-show'].count()\n",
    "# Counting the number of no-show appointments for each neighbourhood\n",
    "neighbourhoods_num_no_show = appointments.groupby('Neighbourhood')['No-show'].sum()\n",
    "# Calculating the percentage of no-show appointments for each neighbourhood\n",
    "neighbourhoods_per_no_show = neighbourhoods_num_no_show/neighbourhoods_num_app\n",
    "\n",
    "neighbourhoods_num_no_show.describe()"
   ]
  },
  {
   "cell_type": "code",
   "execution_count": 20,
   "metadata": {},
   "outputs": [
    {
     "data": {
      "image/png": "[encoded data removed]",
      "text/plain": [
       "<Figure size 1008x252 with 1 Axes>"
      ]
     },
     "metadata": {
      "needs_background": "light"
     },
     "output_type": "display_data"
    }
   ],
   "source": [
    "# Plotting the distribution of percentages of no-shows for a single neibourhood\n",
    "size = 14\n",
    "plt.figure(figsize=(size,size/4))\n",
    "plt.hist(neighbourhoods_per_no_show, bins=25, color='#2196F3', alpha=.6)\n",
    "plt.ylabel('Number of neighbourhoods', fontsize=size)\n",
    "plt.xlabel('Percentage of no-show', fontsize=size)\n",
    "plt.title('Distribution of neighbourhoods based on no-show rate', fontsize=size*1.25)\n",
    "plt.xticks(fontsize=size*0.9)\n",
    "plt.yticks(fontsize=size*0.9)\n",
    "plt.show()"
   ]
  },
  {
   "cell_type": "markdown",
   "metadata": {},
   "source": [
    "From the summary statistics it is clear that there is a big variation between the neighbourhoods and with the range of 1465 no-show appointments and a standard deviation of 278. But the histogram shows that most of the neighbourhoods have a percentage of no-show appointments around the mean of the whole data, so it seems that there are just some outliers.\n",
    "\n",
    "### 3. Number of visits"
   ]
  },
  {
   "cell_type": "code",
   "execution_count": 21,
   "metadata": {},
   "outputs": [
    {
     "data": {
      "text/plain": [
       "count    62298.000000\n",
       "mean         0.358262\n",
       "std          0.689783\n",
       "min          0.000000\n",
       "25%          0.000000\n",
       "50%          0.000000\n",
       "75%          1.000000\n",
       "max         18.000000\n",
       "Name: No-show, dtype: float64"
      ]
     },
     "execution_count": 21,
     "metadata": {},
     "output_type": "execute_result"
    }
   ],
   "source": [
    "# Grouping the data by PatientId\n",
    "patients = appointments.groupby('PatientId')\n",
    "# Counting the number of appointments for each PatientId\n",
    "patients_num_app = appointments.groupby('PatientId')['No-show'].count()\n",
    "# Counting the number of no-show appointments for each PatientId\n",
    "patients_num_no_show = appointments.groupby('PatientId')['No-show'].sum()\n",
    "# Calculating the percentage of no-show appointments for each PatientId\n",
    "patients_per_no_show = patients_num_no_show/patients_num_app\n",
    "\n",
    "patients_num_no_show.describe()"
   ]
  },
  {
   "cell_type": "code",
   "execution_count": 22,
   "metadata": {},
   "outputs": [
    {
     "data": {
      "image/png": "[encoded data removed]",
      "text/plain": [
       "<Figure size 1008x252 with 1 Axes>"
      ]
     },
     "metadata": {
      "needs_background": "light"
     },
     "output_type": "display_data"
    }
   ],
   "source": [
    "# Plotting the distribution of percentages of no-shows for a single patient\n",
    "plt.figure(figsize=(size,size/4))\n",
    "plt.hist(patients_num_no_show, bins=9, color='#2196F3', alpha=.6)\n",
    "plt.title('Distribution the number of no-shows for a single patient', fontsize=size*1.25)\n",
    "plt.xlabel('Number of no-show', fontsize=size)\n",
    "plt.ylabel('Number of patients (log scale)', fontsize=size)\n",
    "plt.xticks([0,2,4,6,8,10,12,14,16,18], fontsize=size*0.9)\n",
    "plt.yticks(fontsize=size*0.9)\n",
    "# Adding a log scale to the y-axis to make the histogram more clear for the smaller values\n",
    "plt.yscale('log')\n",
    "plt.show()"
   ]
  },
  {
   "cell_type": "markdown",
   "metadata": {},
   "source": [
    "From the summary statistics it is clear that there is a big variation between the patients as the maximum number of no-show for a single patient is 18 no-shows. Also the histogram shows that most of the patients don't have more than 2 no-show appointments, but still there are a lot of patients that keep missing more than that.\n",
    "\n",
    "### 4. Difference between scheduled and appointment dates"
   ]
  },
  {
   "cell_type": "code",
   "execution_count": 23,
   "metadata": {},
   "outputs": [],
   "source": [
    "# Get the appointments difference between scheduled and appointment dates and adding it to the DataFrame\n",
    "appointments['SchedulingTime'] = appointments['AppointmentDay'] - appointments['ScheduledDay'].dt.normalize()\n",
    "# Get the difference in days only\n",
    "appointments['SchedulingTime'] = appointments['SchedulingTime'].apply(lambda x: x.days)\n",
    "# Drop the rows with negative schedule time as this is clearly not possible\n",
    "appointments = appointments[appointments['SchedulingTime']>=0]"
   ]
  },
  {
   "cell_type": "code",
   "execution_count": 24,
   "metadata": {},
   "outputs": [
    {
     "data": {
      "image/png": "[encoded data removed]",
      "text/plain": [
       "<Figure size 1008x252 with 1 Axes>"
      ]
     },
     "metadata": {
      "needs_background": "light"
     },
     "output_type": "display_data"
    }
   ],
   "source": [
    "# Grouping the data by SchedulingTime\n",
    "schedulingtime_num_app = appointments.groupby('SchedulingTime')['No-show'].count()\n",
    "# Counting the number of no-show appointments for each PatientId\n",
    "schedulingtime_num_no_show = appointments.groupby('SchedulingTime')['No-show'].sum()\n",
    "# Calculating the percentage of no-show appointments for each PatientId\n",
    "schedulingtime_per_no_show = schedulingtime_num_no_show/schedulingtime_num_app\n",
    "\n",
    "\n",
    "# Plotting the percentage of no-show by the difference between scheduling and appointment dates\n",
    "# I'm using a moving average with a window size of 10 days to smooth the graph\n",
    "plt.figure(figsize=(size,size/4))\n",
    "plt.plot(schedulingtime_per_no_show.rolling(window=10).mean()*100, color='#2196F3', alpha=.6)\n",
    "plt.ylabel('Percentage of no-show', fontsize=size)\n",
    "plt.xlabel('Duration in days', fontsize=size)\n",
    "plt.title('Duration difference between scheduling and appointment dates', fontsize=size*1.25)\n",
    "plt.xticks(fontsize=size*0.9)\n",
    "plt.yticks(fontsize=size*0.9)\n",
    "plt.show()"
   ]
  },
  {
   "cell_type": "code",
   "execution_count": 25,
   "metadata": {},
   "outputs": [
    {
     "data": {
      "text/html": [
       "<div>\n",
       "<style scoped>\n",
       "    .dataframe tbody tr th:only-of-type {\n",
       "        vertical-align: middle;\n",
       "    }\n",
       "\n",
       "    .dataframe tbody tr th {\n",
       "        vertical-align: top;\n",
       "    }\n",
       "\n",
       "    .dataframe thead th {\n",
       "        text-align: right;\n",
       "    }\n",
       "</style>\n",
       "<table border=\"1\" class=\"dataframe\">\n",
       "  <thead>\n",
       "    <tr style=\"text-align: right;\">\n",
       "      <th></th>\n",
       "      <th>PatientId</th>\n",
       "      <th>Age</th>\n",
       "      <th>Scholarship</th>\n",
       "      <th>Hipertension</th>\n",
       "      <th>Diabetes</th>\n",
       "      <th>Alcoholism</th>\n",
       "      <th>Handcap</th>\n",
       "      <th>SMS_received</th>\n",
       "      <th>No-show</th>\n",
       "      <th>SchedulingTime</th>\n",
       "    </tr>\n",
       "  </thead>\n",
       "  <tbody>\n",
       "    <tr>\n",
       "      <th>PatientId</th>\n",
       "      <td>1.000000</td>\n",
       "      <td>-0.004192</td>\n",
       "      <td>-0.002873</td>\n",
       "      <td>-0.006431</td>\n",
       "      <td>0.001612</td>\n",
       "      <td>0.011016</td>\n",
       "      <td>-0.007855</td>\n",
       "      <td>-0.009735</td>\n",
       "      <td>-0.001477</td>\n",
       "      <td>-0.001442</td>\n",
       "    </tr>\n",
       "    <tr>\n",
       "      <th>Age</th>\n",
       "      <td>-0.004192</td>\n",
       "      <td>1.000000</td>\n",
       "      <td>-0.092469</td>\n",
       "      <td>0.504599</td>\n",
       "      <td>0.292398</td>\n",
       "      <td>0.095811</td>\n",
       "      <td>0.078101</td>\n",
       "      <td>0.012629</td>\n",
       "      <td>-0.060320</td>\n",
       "      <td>0.034813</td>\n",
       "    </tr>\n",
       "    <tr>\n",
       "      <th>Scholarship</th>\n",
       "      <td>-0.002873</td>\n",
       "      <td>-0.092469</td>\n",
       "      <td>1.000000</td>\n",
       "      <td>-0.019738</td>\n",
       "      <td>-0.024899</td>\n",
       "      <td>0.035019</td>\n",
       "      <td>-0.008555</td>\n",
       "      <td>0.001182</td>\n",
       "      <td>0.029166</td>\n",
       "      <td>-0.030435</td>\n",
       "    </tr>\n",
       "    <tr>\n",
       "      <th>Hipertension</th>\n",
       "      <td>-0.006431</td>\n",
       "      <td>0.504599</td>\n",
       "      <td>-0.019738</td>\n",
       "      <td>1.000000</td>\n",
       "      <td>0.433082</td>\n",
       "      <td>0.087967</td>\n",
       "      <td>0.080162</td>\n",
       "      <td>-0.006285</td>\n",
       "      <td>-0.035662</td>\n",
       "      <td>-0.017236</td>\n",
       "    </tr>\n",
       "    <tr>\n",
       "      <th>Diabetes</th>\n",
       "      <td>0.001612</td>\n",
       "      <td>0.292398</td>\n",
       "      <td>-0.024899</td>\n",
       "      <td>0.433082</td>\n",
       "      <td>1.000000</td>\n",
       "      <td>0.018471</td>\n",
       "      <td>0.057578</td>\n",
       "      <td>-0.014561</td>\n",
       "      <td>-0.015158</td>\n",
       "      <td>-0.027200</td>\n",
       "    </tr>\n",
       "    <tr>\n",
       "      <th>Alcoholism</th>\n",
       "      <td>0.011016</td>\n",
       "      <td>0.095811</td>\n",
       "      <td>0.035019</td>\n",
       "      <td>0.087967</td>\n",
       "      <td>0.018471</td>\n",
       "      <td>1.000000</td>\n",
       "      <td>0.004668</td>\n",
       "      <td>-0.026154</td>\n",
       "      <td>-0.000181</td>\n",
       "      <td>-0.038527</td>\n",
       "    </tr>\n",
       "    <tr>\n",
       "      <th>Handcap</th>\n",
       "      <td>-0.007855</td>\n",
       "      <td>0.078101</td>\n",
       "      <td>-0.008555</td>\n",
       "      <td>0.080162</td>\n",
       "      <td>0.057578</td>\n",
       "      <td>0.004668</td>\n",
       "      <td>1.000000</td>\n",
       "      <td>-0.024097</td>\n",
       "      <td>-0.006290</td>\n",
       "      <td>-0.019774</td>\n",
       "    </tr>\n",
       "    <tr>\n",
       "      <th>SMS_received</th>\n",
       "      <td>-0.009735</td>\n",
       "      <td>0.012629</td>\n",
       "      <td>0.001182</td>\n",
       "      <td>-0.006285</td>\n",
       "      <td>-0.014561</td>\n",
       "      <td>-0.026154</td>\n",
       "      <td>-0.024097</td>\n",
       "      <td>1.000000</td>\n",
       "      <td>0.126502</td>\n",
       "      <td>0.398128</td>\n",
       "    </tr>\n",
       "    <tr>\n",
       "      <th>No-show</th>\n",
       "      <td>-0.001477</td>\n",
       "      <td>-0.060320</td>\n",
       "      <td>0.029166</td>\n",
       "      <td>-0.035662</td>\n",
       "      <td>-0.015158</td>\n",
       "      <td>-0.000181</td>\n",
       "      <td>-0.006290</td>\n",
       "      <td>0.126502</td>\n",
       "      <td>1.000000</td>\n",
       "      <td>0.186320</td>\n",
       "    </tr>\n",
       "    <tr>\n",
       "      <th>SchedulingTime</th>\n",
       "      <td>-0.001442</td>\n",
       "      <td>0.034813</td>\n",
       "      <td>-0.030435</td>\n",
       "      <td>-0.017236</td>\n",
       "      <td>-0.027200</td>\n",
       "      <td>-0.038527</td>\n",
       "      <td>-0.019774</td>\n",
       "      <td>0.398128</td>\n",
       "      <td>0.186320</td>\n",
       "      <td>1.000000</td>\n",
       "    </tr>\n",
       "  </tbody>\n",
       "</table>\n",
       "</div>"
      ],
      "text/plain": [
       "                PatientId       Age  Scholarship  Hipertension  Diabetes  \\\n",
       "PatientId        1.000000 -0.004192    -0.002873     -0.006431  0.001612   \n",
       "Age             -0.004192  1.000000    -0.092469      0.504599  0.292398   \n",
       "Scholarship     -0.002873 -0.092469     1.000000     -0.019738 -0.024899   \n",
       "Hipertension    -0.006431  0.504599    -0.019738      1.000000  0.433082   \n",
       "Diabetes         0.001612  0.292398    -0.024899      0.433082  1.000000   \n",
       "Alcoholism       0.011016  0.095811     0.035019      0.087967  0.018471   \n",
       "Handcap         -0.007855  0.078101    -0.008555      0.080162  0.057578   \n",
       "SMS_received    -0.009735  0.012629     0.001182     -0.006285 -0.014561   \n",
       "No-show         -0.001477 -0.060320     0.029166     -0.035662 -0.015158   \n",
       "SchedulingTime  -0.001442  0.034813    -0.030435     -0.017236 -0.027200   \n",
       "\n",
       "                Alcoholism   Handcap  SMS_received   No-show  SchedulingTime  \n",
       "PatientId         0.011016 -0.007855     -0.009735 -0.001477       -0.001442  \n",
       "Age               0.095811  0.078101      0.012629 -0.060320        0.034813  \n",
       "Scholarship       0.035019 -0.008555      0.001182  0.029166       -0.030435  \n",
       "Hipertension      0.087967  0.080162     -0.006285 -0.035662       -0.017236  \n",
       "Diabetes          0.018471  0.057578     -0.014561 -0.015158       -0.027200  \n",
       "Alcoholism        1.000000  0.004668     -0.026154 -0.000181       -0.038527  \n",
       "Handcap           0.004668  1.000000     -0.024097 -0.006290       -0.019774  \n",
       "SMS_received     -0.026154 -0.024097      1.000000  0.126502        0.398128  \n",
       "No-show          -0.000181 -0.006290      0.126502  1.000000        0.186320  \n",
       "SchedulingTime   -0.038527 -0.019774      0.398128  0.186320        1.000000  "
      ]
     },
     "execution_count": 25,
     "metadata": {},
     "output_type": "execute_result"
    }
   ],
   "source": [
    "# Checking the correlation between the variables again\n",
    "appointments.corr()"
   ]
  },
  {
   "cell_type": "markdown",
   "metadata": {},
   "source": [
    "It is clear from the line plot that the percentage of no-shows increases as the difference between the scheduling and appointment dates increases. So this might be one of the factors affecting the no-shows rate. Also from the new correlation matrix there is a relation between the SchedulingTime and SMS_received columns which might be the reason why the SMS_received was correlated with the No-show, it seems that most of the patients receiving the SMSs have there appointments further away from the scheduled day."
   ]
  },
  {
   "cell_type": "markdown",
   "metadata": {},
   "source": [
    "<a id='conclusions'></a>\n",
    "## Conclusions\n",
    "\n",
    "### Results:\n",
    "1. There was no direct correlation between most of the independent variables and the no-show rate.\n",
    "2. Investigation for the for the gender didn't show any affects either.\n",
    "3. The highest correlation was with the SMS_received variable and later in the findings it was clear why this correlation might have existed.\n",
    "3. For the neighbouhoods, most of them are around the mean except for a few outliers that will require further external investigation to understand the reasons of these rates.\n",
    "4. Looking at the patients there were a few patients that keep missing their appointments with up to 18 missed appointments, further external investigations will be needed to try to tackle any issues that might be causing the no-shows.\n",
    "5. Exploring the time difference between the scheduling and appointment date, it was clear that the longer the duration the higher the chance of the patient not showing up, also it seems that the SMSs are not that effective as they didn't solve the problem on no-shows.\n",
    "\n",
    "### Limitations and suggestions:\n",
    "1. These outcomes are based on my perspective and idea of how the appointments system works. \n",
    "2. Further investigation with other methods like machine learning methods would provide further insights that might be hidden, like combinations of different variables that affect the no-show rate.\n",
    "3. Domain knowledge of how the system works and benchmarking against other areas might further enhance the analysis.\n",
    "4. Patient surveys to further understand their perspective would be very valuable, especially for the extrems like the patient who missed 18 scheduled appointments.\n"
   ]
  },
  {
   "cell_type": "code",
   "execution_count": null,
   "metadata": {},
   "outputs": [],
   "source": []
  }
 ],
 "metadata": {
  "kernelspec": {
   "display_name": "Python 3",
   "language": "python",
   "name": "python3"
  },
  "language_info": {
   "codemirror_mode": {
    "name": "ipython",
    "version": 3
   },
   "file_extension": ".py",
   "mimetype": "text/x-python",
   "name": "python",
   "nbconvert_exporter": "python",
   "pygments_lexer": "ipython3",
   "version": "3.7.1"
  }
 },
 "nbformat": 4,
 "nbformat_minor": 2
}
